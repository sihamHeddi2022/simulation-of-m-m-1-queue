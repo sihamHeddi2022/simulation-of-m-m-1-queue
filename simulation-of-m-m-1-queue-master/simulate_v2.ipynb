{
 "cells": [
  {
   "cell_type": "code",
   "execution_count": 49,
   "id": "dd58cbaa",
   "metadata": {},
   "outputs": [
    {
     "name": "stdout",
     "output_type": "stream",
     "text": [
      "({0: 0.21626915540580094, 1: 0}, {0: 0.3881902262050538, 1: 0})\n"
     ]
    }
   ],
   "source": [
    "import numpy as np\n",
    "import matplotlib.pyplot as plt\n",
    "import random\n",
    "import math\n",
    "\n",
    "\n",
    "def expo(p):\n",
    "    return (-1/p)*math.log(random.random())\n",
    "\n",
    "\n",
    "def simulate(lamda, mu, tempsMax,prob1):\n",
    "\n",
    "\n",
    "    inter_arrival = expo(lamda)\n",
    "    ct = inter_arrival\n",
    "\n",
    "    t_arrival = ct\n",
    "    depart_t = 0\n",
    "\n",
    "    #examples = {\n",
    "    #    0:[],\n",
    "    #    1:[]\n",
    "    #}\n",
    "\n",
    "    waiting = {\n",
    "        0:[],\n",
    "        1:[]\n",
    "    }\n",
    "\n",
    "    nb = {\n",
    "        0:{},\n",
    "        1:{}\n",
    "    }\n",
    "\n",
    "    while ct < tempsMax:\n",
    "\n",
    "        prob = inter_arrival / tempsMax\n",
    "\n",
    "        if prob != prob1:\n",
    "            i = 0\n",
    "        else:\n",
    "            i = 1\n",
    "\n",
    "        nb[i][inter_arrival] = inter_arrival/tempsMax\n",
    "        #print(ct)\n",
    "\n",
    "        service_time = expo(mu)\n",
    "        nb[i][service_time] = service_time/tempsMax\n",
    "\n",
    "        depart_t = ct + service_time\n",
    "        #examples[i].append((t_arrival,depart_t))\n",
    "        waiting[i].append(depart_t-t_arrival)\n",
    "\n",
    "        inter_arrival =  expo(lamda)\n",
    "        t_arrival = ct + inter_arrival\n",
    "\n",
    "        if t_arrival < depart_t:\n",
    "            ct = depart_t\n",
    "        else:\n",
    "            ct = t_arrival\n",
    "\n",
    "    avg_wait = {}\n",
    "    avg_customers = {}\n",
    "\n",
    "    avg_customers[0] = sum(s * nb[0][s] for s in nb[0])\n",
    "    avg_customers[1] = sum(s * nb[1][s] for s in nb[1])\n",
    "\n",
    "    avg_wait[0] = sum(waiting[0])/len(waiting[0])\n",
    "\n",
    "    if len(waiting[1]) !=0:\n",
    "        avg_wait[1] = sum(waiting[1]) / len(waiting[1])\n",
    "    else:\n",
    "        avg_wait[1]=0\n",
    "    return avg_wait,avg_customers\n",
    "\n",
    "\n",
    "\n",
    "print(simulate(6,5,10,2/3))\n",
    "\n",
    "\n",
    "\n",
    "\n",
    "\n"
   ]
  },
  {
   "cell_type": "code",
   "execution_count": 50,
   "id": "b3d172d6",
   "metadata": {},
   "outputs": [],
   "source": [
    "p = np.zeros(30)\n",
    "w = np.zeros(30)"
   ]
  },
  {
   "cell_type": "code",
   "execution_count": 51,
   "id": "744ee30a",
   "metadata": {},
   "outputs": [
    {
     "data": {
      "text/plain": [
       "(array([0.0346375 , 0.04533151, 0.07257134, 0.10455397, 0.14374005,\n",
       "        0.17484609, 0.19001561, 0.21402269, 0.33361368, 0.34569379,\n",
       "        0.35805666, 0.39364663, 0.40152252, 0.43516785, 0.436679  ,\n",
       "        0.46961513, 0.53660241, 0.61150565, 0.63462852, 0.65894764,\n",
       "        0.69397993, 0.70232511, 0.70915826, 0.72630891, 0.84488023,\n",
       "        0.88463051, 0.88766666, 0.96078753, 0.98893197, 0.99704377]),\n",
       " array([0.68105923, 0.23051145, 0.36192793, 0.36724239, 0.24833297,\n",
       "        0.26560262, 0.14363235, 0.32353921, 0.36038079, 0.32639591,\n",
       "        0.15793246, 0.26187382, 0.38679716, 0.37101416, 0.22523665,\n",
       "        0.26179233, 0.25036212, 0.21568746, 0.37215365, 0.10243835,\n",
       "        0.29926972, 0.49467887, 0.19165219, 0.23108842, 0.1736633 ,\n",
       "        0.25466505, 0.25617358, 0.2627509 , 0.18699901, 0.48690352]))"
      ]
     },
     "execution_count": 51,
     "metadata": {},
     "output_type": "execute_result"
    }
   ],
   "source": [
    "for i in range(30):\n",
    "    p[i] = random.random()\n",
    "p.sort()\n",
    "\n",
    "for i in range(30):\n",
    "    w[i] = simulate(6,5,3,p[i])[0][0]\n",
    "p,w"
   ]
  },
  {
   "cell_type": "code",
   "execution_count": 52,
   "id": "e8ba7b11",
   "metadata": {},
   "outputs": [
    {
     "data": {
      "image/png": "[encoded data removed]",
      "text/plain": [
       "<Figure size 432x288 with 1 Axes>"
      ]
     },
     "metadata": {
      "needs_background": "light"
     },
     "output_type": "display_data"
    }
   ],
   "source": [
    "\n",
    "plt.step(p,w)\n",
    "plt.xlabel('probability')\n",
    "plt.ylabel('average waiting time')\n",
    "plt.show()\n"
   ]
  },
  {
   "cell_type": "code",
   "execution_count": null,
   "id": "9d26e27b",
   "metadata": {},
   "outputs": [],
   "source": []
  }
 ],
 "metadata": {
  "kernelspec": {
   "display_name": "Python 3 (ipykernel)",
   "language": "python",
   "name": "python3"
  },
  "language_info": {
   "codemirror_mode": {
    "name": "ipython",
    "version": 3
   },
   "file_extension": ".py",
   "mimetype": "text/x-python",
   "name": "python",
   "nbconvert_exporter": "python",
   "pygments_lexer": "ipython3",
   "version": "3.10.6"
  }
 },
 "nbformat": 4,
 "nbformat_minor": 5
}
